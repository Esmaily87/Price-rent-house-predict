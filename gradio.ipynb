{
 "cells": [
  {
   "cell_type": "code",
   "execution_count": 4,
   "metadata": {},
   "outputs": [],
   "source": [
    "import gradio as gr\n",
    "import joblib as jb\n",
    "import pandas as pd"
   ]
  },
  {
   "cell_type": "code",
   "execution_count": 8,
   "metadata": {},
   "outputs": [],
   "source": [
    "modelo = jb.load('./modelo_house.pkl')"
   ]
  },
  {
   "cell_type": "code",
   "execution_count": 11,
   "metadata": {},
   "outputs": [],
   "source": [
    "def prediction(tamanho, numero_de_quartos, anos_de_uso, garagem, localizacao_periferica, localizacao_suburbio):\n",
    "    predicao_individual = {\n",
    "        'tamanho' : tamanho,\n",
    "        'numero_de_quartos' : numero_de_quartos,\n",
    "        'anos_de_uso': anos_de_uso,\n",
    "        'garagem': garagem,\n",
    "        'localizacao_periferica' : localizacao_periferica,\n",
    "        'localizacao_suburbio': localizacao_suburbio\n",
    "    }\n",
    "    predict_df = pd.DataFrame(predicao_individual, index=[1])\n",
    "    colesterol = modelo.predict(predict_df)\n",
    "    \n",
    "    return float(colesterol.reshape(-1))"
   ]
  },
  {
   "cell_type": "code",
   "execution_count": 13,
   "metadata": {},
   "outputs": [
    {
     "name": "stderr",
     "output_type": "stream",
     "text": [
      "/var/folders/4t/j53wt7wx151bh37nnw6l72mh0000gn/T/ipykernel_17545/2266738235.py:13: DeprecationWarning: Conversion of an array with ndim > 0 to a scalar is deprecated, and will error in future. Ensure you extract a single element from your array before performing this operation. (Deprecated NumPy 1.25.)\n",
      "  return float(colesterol.reshape(-1))\n"
     ]
    },
    {
     "data": {
      "text/plain": [
       "2110.946584254023"
      ]
     },
     "execution_count": 13,
     "metadata": {},
     "output_type": "execute_result"
    }
   ],
   "source": [
    "prediction(106.181, 1, 36.76, 0, True, 165)"
   ]
  },
  {
   "cell_type": "code",
   "execution_count": null,
   "metadata": {},
   "outputs": [],
   "source": [
    "# demo = gr.Interface(\n",
    "#     fn = prediction,\n",
    "#     inputs = [\n",
    "#         gr.TextArea('TEste'),\n",
    "#         'checkbox',\n",
    "#         gr.Radio(['Bai', 'Moderado', 'Alto']),\n",
    "#         gr.Slider(20, 80, step=1),\n",
    "#         gr.Slider(40, 160, step=0.1),\n",
    "#         gr.Slider(150, 200, step=1)],\n",
    "#     outputs = ['number']\n",
    "# )"
   ]
  },
  {
   "cell_type": "code",
   "execution_count": null,
   "metadata": {},
   "outputs": [],
   "source": [
    "# Criando interface no Gradio\n",
    "interface = gr.Interface(\n",
    "    fn=prediction,\n",
    "    inputs=[\n",
    "        gr.Number(label=\"Tamanho (m²)\"),\n",
    "        gr.Number(label=\"Número de Quartos\"),\n",
    "        gr.Number(label=\"Anos de Uso\"),\n",
    "        gr.Radio([0, 1]),\n",
    "        gr.Checkbox(label=\"Localização na Periferia?\"),\n",
    "        gr.Checkbox(label=\"Localização no Subúrbio?\")\n",
    "    ],\n",
    "    outputs=gr.Number(label=\"Valor Previsto do Aluguel\"),\n",
    "    title=\"Previsão de Aluguel\",\n",
    "    description=\"Insira os dados do imóvel para prever o valor do aluguel\"\n",
    ")\n",
    "\n",
    "# # Executando a interface\n",
    "# if __name__ == \"__main__\":\n",
    "#     interface.launch()\n"
   ]
  },
  {
   "cell_type": "code",
   "execution_count": 17,
   "metadata": {},
   "outputs": [
    {
     "name": "stdout",
     "output_type": "stream",
     "text": [
      "* Running on local URL:  http://127.0.0.1:7861\n",
      "* Running on public URL: https://2089810571dbace84d.gradio.live\n",
      "\n",
      "This share link expires in 72 hours. For free permanent hosting and GPU upgrades, run `gradio deploy` from the terminal in the working directory to deploy to Hugging Face Spaces (https://huggingface.co/spaces)\n"
     ]
    },
    {
     "data": {
      "text/html": [
       "<div><iframe src=\"https://2089810571dbace84d.gradio.live\" width=\"100%\" height=\"500\" allow=\"autoplay; camera; microphone; clipboard-read; clipboard-write;\" frameborder=\"0\" allowfullscreen></iframe></div>"
      ],
      "text/plain": [
       "<IPython.core.display.HTML object>"
      ]
     },
     "metadata": {},
     "output_type": "display_data"
    },
    {
     "data": {
      "text/plain": []
     },
     "execution_count": 17,
     "metadata": {},
     "output_type": "execute_result"
    }
   ],
   "source": [
    "interface.launch(share=True)"
   ]
  }
 ],
 "metadata": {
  "kernelspec": {
   "display_name": "IA_rent_house_predict-jgEQ1Xtw",
   "language": "python",
   "name": "python3"
  },
  "language_info": {
   "codemirror_mode": {
    "name": "ipython",
    "version": 3
   },
   "file_extension": ".py",
   "mimetype": "text/x-python",
   "name": "python",
   "nbconvert_exporter": "python",
   "pygments_lexer": "ipython3",
   "version": "3.11.8"
  }
 },
 "nbformat": 4,
 "nbformat_minor": 2
}
